{
 "cells": [
  {
   "cell_type": "markdown",
   "metadata": {},
   "source": [
    "<span style=\"font-family: Arial; font-weight:bold;font-size:2.5em;color:#a31103;\">Statistics for Regression EXAM FOR 30 MARKS"
   ]
  },
  {
   "cell_type": "markdown",
   "metadata": {},
   "source": [
    "--------"
   ]
  },
  {
   "cell_type": "markdown",
   "metadata": {},
   "source": [
    "# 4 Questions X 2 Marks = 8 Marks"
   ]
  },
  {
   "cell_type": "markdown",
   "metadata": {},
   "source": [
    "-------"
   ]
  },
  {
   "cell_type": "markdown",
   "metadata": {},
   "source": [
    "<span style=\"font-family: Arial; font-weight:bold;font-size:1.5em;color:#a31103;\"> 1.Find the Mean, median, SD, for the bank data = [9.66, 5.90,8.02, 5.79, 8.73, 3.82, 8.01, 8.35, 10.49, 6.68, 5.64, 4.08, 6.17, 9.91, 5.47] and Create a  columns name as Wait_time?"
   ]
  },
  {
   "cell_type": "code",
   "execution_count": 1,
   "metadata": {},
   "outputs": [],
   "source": [
    "import pandas as pd\n",
    "import numpy as np"
   ]
  },
  {
   "cell_type": "code",
   "execution_count": 48,
   "metadata": {},
   "outputs": [],
   "source": [
    "import numpy as np\n",
    "bank_data = [9.66, 5.90,8.02, 5.79, 8.73, 3.82, 8.01, 8.35, 10.49, 6.68, 5.64, 4.08, 6.17, 9.91, 5.47]\n"
   ]
  },
  {
   "cell_type": "code",
   "execution_count": 49,
   "metadata": {},
   "outputs": [
    {
     "name": "stdout",
     "output_type": "stream",
     "text": [
      "Mean =  7.114666666666666\n"
     ]
    }
   ],
   "source": [
    "print('Mean = ',np.mean(bank_data))\n"
   ]
  },
  {
   "cell_type": "code",
   "execution_count": 50,
   "metadata": {},
   "outputs": [
    {
     "name": "stdout",
     "output_type": "stream",
     "text": [
      "Median =  6.68\n"
     ]
    }
   ],
   "source": [
    "print('Median = ',np.median(bank_data))\n"
   ]
  },
  {
   "cell_type": "code",
   "execution_count": 52,
   "metadata": {},
   "outputs": [
    {
     "name": "stdout",
     "output_type": "stream",
     "text": [
      "Standard Deviation =  2.0115859967255245\n"
     ]
    }
   ],
   "source": [
    "print('Standard Deviation = ',np.std(bank_data))"
   ]
  },
  {
   "cell_type": "code",
   "execution_count": 14,
   "metadata": {},
   "outputs": [
    {
     "data": {
      "text/html": [
       "<div>\n",
       "<style scoped>\n",
       "    .dataframe tbody tr th:only-of-type {\n",
       "        vertical-align: middle;\n",
       "    }\n",
       "\n",
       "    .dataframe tbody tr th {\n",
       "        vertical-align: top;\n",
       "    }\n",
       "\n",
       "    .dataframe thead th {\n",
       "        text-align: right;\n",
       "    }\n",
       "</style>\n",
       "<table border=\"1\" class=\"dataframe\">\n",
       "  <thead>\n",
       "    <tr style=\"text-align: right;\">\n",
       "      <th></th>\n",
       "      <th>Wait_time</th>\n",
       "    </tr>\n",
       "  </thead>\n",
       "  <tbody>\n",
       "    <tr>\n",
       "      <td>a</td>\n",
       "      <td>9.66</td>\n",
       "    </tr>\n",
       "    <tr>\n",
       "      <td>b</td>\n",
       "      <td>5.90</td>\n",
       "    </tr>\n",
       "    <tr>\n",
       "      <td>c</td>\n",
       "      <td>8.02</td>\n",
       "    </tr>\n",
       "    <tr>\n",
       "      <td>d</td>\n",
       "      <td>5.79</td>\n",
       "    </tr>\n",
       "    <tr>\n",
       "      <td>e</td>\n",
       "      <td>8.73</td>\n",
       "    </tr>\n",
       "  </tbody>\n",
       "</table>\n",
       "</div>"
      ],
      "text/plain": [
       "   Wait_time\n",
       "a       9.66\n",
       "b       5.90\n",
       "c       8.02\n",
       "d       5.79\n",
       "e       8.73"
      ]
     },
     "execution_count": 14,
     "metadata": {},
     "output_type": "execute_result"
    }
   ],
   "source": [
    "#Create a columns name as Wait_time\n",
    "df=pd.DataFrame(bank_data,index =['a', 'b', 'c', 'd', 'e','f','i','j','k','l','m','n','o','p','q'], \n",
    "                                              columns =['Wait_time'])\n",
    "df.head()"
   ]
  },
  {
   "cell_type": "code",
   "execution_count": 45,
   "metadata": {},
   "outputs": [
    {
     "data": {
      "text/html": [
       "<div>\n",
       "<style scoped>\n",
       "    .dataframe tbody tr th:only-of-type {\n",
       "        vertical-align: middle;\n",
       "    }\n",
       "\n",
       "    .dataframe tbody tr th {\n",
       "        vertical-align: top;\n",
       "    }\n",
       "\n",
       "    .dataframe thead th {\n",
       "        text-align: right;\n",
       "    }\n",
       "</style>\n",
       "<table border=\"1\" class=\"dataframe\">\n",
       "  <thead>\n",
       "    <tr style=\"text-align: right;\">\n",
       "      <th></th>\n",
       "      <th>Wait_time</th>\n",
       "    </tr>\n",
       "  </thead>\n",
       "  <tbody>\n",
       "    <tr>\n",
       "      <td>m</td>\n",
       "      <td>5.64</td>\n",
       "    </tr>\n",
       "    <tr>\n",
       "      <td>n</td>\n",
       "      <td>4.08</td>\n",
       "    </tr>\n",
       "    <tr>\n",
       "      <td>o</td>\n",
       "      <td>6.17</td>\n",
       "    </tr>\n",
       "    <tr>\n",
       "      <td>p</td>\n",
       "      <td>9.91</td>\n",
       "    </tr>\n",
       "    <tr>\n",
       "      <td>q</td>\n",
       "      <td>5.47</td>\n",
       "    </tr>\n",
       "  </tbody>\n",
       "</table>\n",
       "</div>"
      ],
      "text/plain": [
       "   Wait_time\n",
       "m       5.64\n",
       "n       4.08\n",
       "o       6.17\n",
       "p       9.91\n",
       "q       5.47"
      ]
     },
     "execution_count": 45,
     "metadata": {},
     "output_type": "execute_result"
    }
   ],
   "source": [
    "df.tail()"
   ]
  },
  {
   "cell_type": "markdown",
   "metadata": {},
   "source": [
    "<span style=\"font-family: Arial; font-weight:bold;font-size:1.5em;color:#a31103;\">2. Following is a set of data. X and Y have 11 samples of data each .Compute the covariance and check the correlation.\n",
    "\n",
    "    X 7  5  8  3 6  10 12 4  9  15 18\n",
    "    Y 21 15 24 9 18 30 36 12 27 45 54\n",
    "\n",
    "   "
   ]
  },
  {
   "cell_type": "code",
   "execution_count": 10,
   "metadata": {},
   "outputs": [
    {
     "name": "stdout",
     "output_type": "stream",
     "text": [
      "[[ 21.76363636  65.29090909]\n",
      " [ 65.29090909 195.87272727]]\n"
     ]
    },
    {
     "data": {
      "text/plain": [
       "array([[1., 1.],\n",
       "       [1., 1.]])"
      ]
     },
     "execution_count": 10,
     "metadata": {},
     "output_type": "execute_result"
    }
   ],
   "source": [
    "X= [7 , 5,  8,  3, 6,  10, 12, 4 , 9,  15, 18]\n",
    "Y= [21, 15, 24, 9, 18, 30, 36, 12, 27, 45, 54]\n",
    "cov_mat = np.stack((X, Y), axis = 0)  \n",
    "print(np.cov(cov_mat))\n",
    "np.corrcoef(X,Y)\n"
   ]
  },
  {
   "cell_type": "markdown",
   "metadata": {},
   "source": [
    "<span style=\"font-family: Arial; font-weight:bold;font-size:1.5em;color:#a31103;\">Today, full-time college students report spending a mean of 27 hours per week on academic activities, both inside and outside the classroom. (Source: \"A Challenge to College Students for 2013: Don't Waste Your 6,570,\" Huffington Post, January 29, 2013, huff.to/13dNtuT.)\n",
    "Assume the standard deviation of time spent on academic activities is 4 hours. If you select a random sample of 16 full-time college students,"
   ]
  },
  {
   "cell_type": "markdown",
   "metadata": {},
   "source": [
    "<span style=\"font-family: Arial; font-weight:bold;font-size:1.5em;color:#a31103;\">3A) What is the probability that the mean time spent on academic activities is at least 26 hours per week?"
   ]
  },
  {
   "cell_type": "code",
   "execution_count": 16,
   "metadata": {},
   "outputs": [
    {
     "name": "stdout",
     "output_type": "stream",
     "text": [
      "Probability of mean time spent on academic activities at least 26 hrs is :  0.8413\n"
     ]
    }
   ],
   "source": [
    "import scipy.stats as stats\n",
    "mu=27\n",
    "sigma=4\n",
    "n=16\n",
    "z=(26-mu)/(sigma/np.sqrt(n))\n",
    "p=1-stats.norm.cdf(z)\n",
    "print(\"Probability of mean time spent on academic activities at least 26 hrs is :  %1.4f\" %p)\n",
    "\n"
   ]
  },
  {
   "cell_type": "markdown",
   "metadata": {},
   "source": [
    "<span style=\"font-family: Arial; font-weight:bold;font-size:1.5em;color:#a31103;\">3B).There is an 85 % chance that the sample mean is less than how many hours per week?"
   ]
  },
  {
   "cell_type": "code",
   "execution_count": 17,
   "metadata": {},
   "outputs": [
    {
     "name": "stdout",
     "output_type": "stream",
     "text": [
      "85% chance that sample mean is less than 1.4400000000000013 hours per week\n"
     ]
    }
   ],
   "source": [
    "\n",
    "#85% chance - z*- value is 1.44\n",
    "linte=mu-(1.44*(sigma/np.sqrt(n)))\n",
    "print(\"85% chance that sample mean is less than {} hours per week\".format(27-linte))\n"
   ]
  },
  {
   "cell_type": "markdown",
   "metadata": {},
   "source": [
    "<span style=\"font-family: Arial; font-weight:bold;font-size:1.5em;color:#a31103;\">4). If you select a random sample of 64 full-time college students, there is an 85 % chance that the sample mean is less     than how many hours per week?"
   ]
  },
  {
   "cell_type": "code",
   "execution_count": 47,
   "metadata": {},
   "outputs": [
    {
     "name": "stdout",
     "output_type": "stream",
     "text": [
      "85% of confidence intervel is from 26.280234264530772 to 27.719765735469228 \n"
     ]
    }
   ],
   "source": [
    "ci = 0.85\n",
    "Xavg = 27\n",
    "sd = 4\n",
    "\n",
    "s  = sd / np.sqrt(64)\n",
    "LCI, UCI = stats.norm.interval(ci, loc = Xavg, scale = s)\n",
    "print('85% of confidence intervel is from {} to {} '.format(LCI,UCI))"
   ]
  },
  {
   "cell_type": "markdown",
   "metadata": {},
   "source": [
    "------"
   ]
  },
  {
   "cell_type": "markdown",
   "metadata": {},
   "source": [
    "# 5 Questions X 3 Marks = 15 Marks"
   ]
  },
  {
   "cell_type": "markdown",
   "metadata": {},
   "source": [
    "--------"
   ]
  },
  {
   "cell_type": "markdown",
   "metadata": {},
   "source": [
    "<span style=\"font-family: Arial; font-weight:bold;font-size:1.5em;color:#a31103;\">Interns report that when deciding on where to work. Career growth, salary and compensation, location and commute, and company culture and values are important factors to them. According to the Glassdoor blog's \"25 Highest Paying Companies for Interns 2014,monthly pay of interns at Intel is '$4,648'."
   ]
  },
  {
   "cell_type": "markdown",
   "metadata": {},
   "source": [
    "<span style=\"font-family: Arial; font-weight:bold;font-size:1.5em;color:#a31103;\">Suppose that the intern monthly pay is normally distributed, with a standard deviation of '$400'. \n",
    "    "
   ]
  },
  {
   "cell_type": "markdown",
   "metadata": {},
   "source": [
    "### 5A) Find the probability that the monthly pay of an intern at Intel less than $4,500?"
   ]
  },
  {
   "cell_type": "code",
   "execution_count": 39,
   "metadata": {},
   "outputs": [
    {
     "name": "stdout",
     "output_type": "stream",
     "text": [
      "probability of pay being less than $4500 :  0.3556912451994533\n"
     ]
    }
   ],
   "source": [
    "from scipy import stats\n",
    "mean_1 = 4648\n",
    "std_1 = 400\n",
    "p = stats.norm.cdf((4500-mean_1)/std_1)\n",
    "print('probability of pay being less than $4500 : ',p)"
   ]
  },
  {
   "cell_type": "markdown",
   "metadata": {},
   "source": [
    "\n",
    "### 5B) Find the probability that the monthly pay of an intern at Intel between $ (4,300 To 4,700)?\n",
    "\n"
   ]
  },
  {
   "cell_type": "code",
   "execution_count": 40,
   "metadata": {},
   "outputs": [
    {
     "name": "stdout",
     "output_type": "stream",
     "text": [
      "probability of pay being between $4700 and $4300 :  0.3556912451994533\n"
     ]
    }
   ],
   "source": [
    "p2 = stats.norm.cdf((4700-mean_1)/std_1) -stats.norm.cdf((4300-mean_1)/std_1)\n",
    "print('probability of pay being between $4700 and $4300 : ',p)\n"
   ]
  },
  {
   "cell_type": "markdown",
   "metadata": {},
   "source": [
    "### 6.A) Find the Z value is above 5,200?"
   ]
  },
  {
   "cell_type": "code",
   "execution_count": 53,
   "metadata": {},
   "outputs": [
    {
     "name": "stdout",
     "output_type": "stream",
     "text": [
      "Z value is : 1.38\n"
     ]
    }
   ],
   "source": [
    "z = (5200 - mean_1)/std_1\n",
    "z\n",
    "print(\"Z value is :\",z)"
   ]
  },
  {
   "cell_type": "markdown",
   "metadata": {},
   "source": [
    "### 6B)  Ninety-nine percent of the intern monthly pays are higher than what value? "
   ]
  },
  {
   "cell_type": "code",
   "execution_count": 42,
   "metadata": {},
   "outputs": [
    {
     "name": "stdout",
     "output_type": "stream",
     "text": [
      "Ninety-nine percent of the intern monthly pays are higher than $ 5578.5391496163365\n"
     ]
    }
   ],
   "source": [
    "a=stats.norm.ppf(0.99)\n",
    "print('Ninety-nine percent of the intern monthly pays are higher than $',(a*std_1)+mean_1)"
   ]
  },
  {
   "cell_type": "markdown",
   "metadata": {},
   "source": [
    "### 6C) Ninety-five percent of the intern monthly pays are between what two values, symmetrically distributed around the mean?"
   ]
  },
  {
   "cell_type": "code",
   "execution_count": 43,
   "metadata": {},
   "outputs": [
    {
     "name": "stdout",
     "output_type": "stream",
     "text": [
      "Ninety-five percent of the intern monthly pays are between $ 5578.5391496163365 and $ 5305.941450780589\n"
     ]
    }
   ],
   "source": [
    "u=stats.norm.ppf(0.95)\n",
    "s=stats.norm.ppf(1 - 0.95)\n",
    "print ('Ninety-five percent of the intern monthly pays are between $',(a*std_1)+mean_1, 'and $', (u*std_1)+mean_1)"
   ]
  },
  {
   "cell_type": "markdown",
   "metadata": {},
   "source": [
    "<span style=\"font-family: Arial; font-weight:bold;font-size:1.5em;color:#a31103;\"> 7.Read the dataset(Trough.xlsx) and construct a boxplot and describe its shape and What can you conclude about the number of troughs that will meet the company's requirement of troughs being between 8.31 and 8.61 inches wide?  "
   ]
  },
  {
   "cell_type": "code",
   "execution_count": 19,
   "metadata": {},
   "outputs": [
    {
     "data": {
      "text/html": [
       "<div>\n",
       "<style scoped>\n",
       "    .dataframe tbody tr th:only-of-type {\n",
       "        vertical-align: middle;\n",
       "    }\n",
       "\n",
       "    .dataframe tbody tr th {\n",
       "        vertical-align: top;\n",
       "    }\n",
       "\n",
       "    .dataframe thead th {\n",
       "        text-align: right;\n",
       "    }\n",
       "</style>\n",
       "<table border=\"1\" class=\"dataframe\">\n",
       "  <thead>\n",
       "    <tr style=\"text-align: right;\">\n",
       "      <th></th>\n",
       "      <th>Width</th>\n",
       "    </tr>\n",
       "  </thead>\n",
       "  <tbody>\n",
       "    <tr>\n",
       "      <td>0</td>\n",
       "      <td>8.312</td>\n",
       "    </tr>\n",
       "    <tr>\n",
       "      <td>1</td>\n",
       "      <td>8.343</td>\n",
       "    </tr>\n",
       "    <tr>\n",
       "      <td>2</td>\n",
       "      <td>8.317</td>\n",
       "    </tr>\n",
       "    <tr>\n",
       "      <td>3</td>\n",
       "      <td>8.383</td>\n",
       "    </tr>\n",
       "    <tr>\n",
       "      <td>4</td>\n",
       "      <td>8.348</td>\n",
       "    </tr>\n",
       "  </tbody>\n",
       "</table>\n",
       "</div>"
      ],
      "text/plain": [
       "   Width\n",
       "0  8.312\n",
       "1  8.343\n",
       "2  8.317\n",
       "3  8.383\n",
       "4  8.348"
      ]
     },
     "execution_count": 19,
     "metadata": {},
     "output_type": "execute_result"
    }
   ],
   "source": [
    "data4=pd.read_excel(\"Trough.xlsx\")\n",
    "data4.head()"
   ]
  },
  {
   "cell_type": "code",
   "execution_count": 20,
   "metadata": {},
   "outputs": [
    {
     "data": {
      "text/plain": [
       "(49, 1)"
      ]
     },
     "execution_count": 20,
     "metadata": {},
     "output_type": "execute_result"
    }
   ],
   "source": [
    "data4.shape"
   ]
  },
  {
   "cell_type": "code",
   "execution_count": 22,
   "metadata": {},
   "outputs": [],
   "source": [
    "import seaborn as sns\n"
   ]
  },
  {
   "cell_type": "code",
   "execution_count": 23,
   "metadata": {},
   "outputs": [
    {
     "data": {
      "text/plain": [
       "<matplotlib.axes._subplots.AxesSubplot at 0x254ff197438>"
      ]
     },
     "execution_count": 23,
     "metadata": {},
     "output_type": "execute_result"
    },
    {
     "data": {
      "image/png": "[encoded data removed]",
      "text/plain": [
       "<Figure size 432x288 with 1 Axes>"
      ]
     },
     "metadata": {
      "needs_background": "light"
     },
     "output_type": "display_data"
    }
   ],
   "source": [
    "sns.boxplot(y=data4[\"Width\"])"
   ]
  },
  {
   "cell_type": "raw",
   "metadata": {},
   "source": [
    "Observation: As all Troughs fall in a range of 8.31 to 8.61, so it will comes in a same category."
   ]
  },
  {
   "cell_type": "code",
   "execution_count": 46,
   "metadata": {},
   "outputs": [
    {
     "data": {
      "text/plain": [
       "<matplotlib.axes._subplots.AxesSubplot at 0x254ff533dd8>"
      ]
     },
     "execution_count": 46,
     "metadata": {},
     "output_type": "execute_result"
    },
    {
     "data": {
      "image/png": "[encoded data removed]",
      "text/plain": [
       "<Figure size 432x288 with 1 Axes>"
      ]
     },
     "metadata": {
      "needs_background": "light"
     },
     "output_type": "display_data"
    }
   ],
   "source": [
    "sns.distplot(data4['Width'])"
   ]
  },
  {
   "cell_type": "raw",
   "metadata": {},
   "source": [
    "observation:\n",
    "    -As the range is between 8.85 to 8.50 \n",
    "    -throughs are mostly in same category.\n",
    "     "
   ]
  },
  {
   "cell_type": "markdown",
   "metadata": {},
   "source": [
    "<span style=\"font-family: Arial; font-weight:bold;font-size:1.5em;color:#a31103;\">8.Read the dataset(Cereals.xlsx) and Which do you think is more valuable in expressing the relationship between calories and sugar - the covariance or the coefficient of correlation? Explain"
   ]
  },
  {
   "cell_type": "code",
   "execution_count": 24,
   "metadata": {},
   "outputs": [
    {
     "data": {
      "text/html": [
       "<div>\n",
       "<style scoped>\n",
       "    .dataframe tbody tr th:only-of-type {\n",
       "        vertical-align: middle;\n",
       "    }\n",
       "\n",
       "    .dataframe tbody tr th {\n",
       "        vertical-align: top;\n",
       "    }\n",
       "\n",
       "    .dataframe thead th {\n",
       "        text-align: right;\n",
       "    }\n",
       "</style>\n",
       "<table border=\"1\" class=\"dataframe\">\n",
       "  <thead>\n",
       "    <tr style=\"text-align: right;\">\n",
       "      <th></th>\n",
       "      <th>Cereal</th>\n",
       "      <th>Calories</th>\n",
       "      <th>Carbohydrates</th>\n",
       "      <th>Sugar</th>\n",
       "    </tr>\n",
       "  </thead>\n",
       "  <tbody>\n",
       "    <tr>\n",
       "      <td>0</td>\n",
       "      <td>Kellogg All Bran</td>\n",
       "      <td>80</td>\n",
       "      <td>23</td>\n",
       "      <td>6</td>\n",
       "    </tr>\n",
       "    <tr>\n",
       "      <td>1</td>\n",
       "      <td>Kellogg Corn Flakes</td>\n",
       "      <td>100</td>\n",
       "      <td>24</td>\n",
       "      <td>2</td>\n",
       "    </tr>\n",
       "    <tr>\n",
       "      <td>2</td>\n",
       "      <td>Wheaties</td>\n",
       "      <td>100</td>\n",
       "      <td>22</td>\n",
       "      <td>4</td>\n",
       "    </tr>\n",
       "    <tr>\n",
       "      <td>3</td>\n",
       "      <td>Nature's Path Organic Multigrain Flakes</td>\n",
       "      <td>110</td>\n",
       "      <td>24</td>\n",
       "      <td>4</td>\n",
       "    </tr>\n",
       "    <tr>\n",
       "      <td>4</td>\n",
       "      <td>Kellogg Rice Krispies</td>\n",
       "      <td>130</td>\n",
       "      <td>29</td>\n",
       "      <td>4</td>\n",
       "    </tr>\n",
       "  </tbody>\n",
       "</table>\n",
       "</div>"
      ],
      "text/plain": [
       "                                    Cereal  Calories  Carbohydrates  Sugar\n",
       "0                         Kellogg All Bran        80             23      6\n",
       "1                      Kellogg Corn Flakes       100             24      2\n",
       "2                                 Wheaties       100             22      4\n",
       "3  Nature's Path Organic Multigrain Flakes       110             24      4\n",
       "4                    Kellogg Rice Krispies       130             29      4"
      ]
     },
     "execution_count": 24,
     "metadata": {},
     "output_type": "execute_result"
    }
   ],
   "source": [
    "data1=pd.read_excel(\"Cereals.xlsx\")\n",
    "data1.head()"
   ]
  },
  {
   "cell_type": "code",
   "execution_count": 25,
   "metadata": {},
   "outputs": [
    {
     "data": {
      "text/html": [
       "<div>\n",
       "<style scoped>\n",
       "    .dataframe tbody tr th:only-of-type {\n",
       "        vertical-align: middle;\n",
       "    }\n",
       "\n",
       "    .dataframe tbody tr th {\n",
       "        vertical-align: top;\n",
       "    }\n",
       "\n",
       "    .dataframe thead th {\n",
       "        text-align: right;\n",
       "    }\n",
       "</style>\n",
       "<table border=\"1\" class=\"dataframe\">\n",
       "  <thead>\n",
       "    <tr style=\"text-align: right;\">\n",
       "      <th></th>\n",
       "      <th>Calories</th>\n",
       "      <th>Carbohydrates</th>\n",
       "      <th>Sugar</th>\n",
       "    </tr>\n",
       "  </thead>\n",
       "  <tbody>\n",
       "    <tr>\n",
       "      <td>count</td>\n",
       "      <td>7.000000</td>\n",
       "      <td>7.000000</td>\n",
       "      <td>7.000000</td>\n",
       "    </tr>\n",
       "    <tr>\n",
       "      <td>mean</td>\n",
       "      <td>130.000000</td>\n",
       "      <td>30.142857</td>\n",
       "      <td>5.857143</td>\n",
       "    </tr>\n",
       "    <tr>\n",
       "      <td>std</td>\n",
       "      <td>46.904158</td>\n",
       "      <td>10.090071</td>\n",
       "      <td>3.387653</td>\n",
       "    </tr>\n",
       "    <tr>\n",
       "      <td>min</td>\n",
       "      <td>80.000000</td>\n",
       "      <td>22.000000</td>\n",
       "      <td>2.000000</td>\n",
       "    </tr>\n",
       "    <tr>\n",
       "      <td>25%</td>\n",
       "      <td>100.000000</td>\n",
       "      <td>23.500000</td>\n",
       "      <td>4.000000</td>\n",
       "    </tr>\n",
       "    <tr>\n",
       "      <td>50%</td>\n",
       "      <td>110.000000</td>\n",
       "      <td>24.000000</td>\n",
       "      <td>4.000000</td>\n",
       "    </tr>\n",
       "    <tr>\n",
       "      <td>75%</td>\n",
       "      <td>160.000000</td>\n",
       "      <td>36.000000</td>\n",
       "      <td>8.000000</td>\n",
       "    </tr>\n",
       "    <tr>\n",
       "      <td>max</td>\n",
       "      <td>200.000000</td>\n",
       "      <td>46.000000</td>\n",
       "      <td>11.000000</td>\n",
       "    </tr>\n",
       "  </tbody>\n",
       "</table>\n",
       "</div>"
      ],
      "text/plain": [
       "         Calories  Carbohydrates      Sugar\n",
       "count    7.000000       7.000000   7.000000\n",
       "mean   130.000000      30.142857   5.857143\n",
       "std     46.904158      10.090071   3.387653\n",
       "min     80.000000      22.000000   2.000000\n",
       "25%    100.000000      23.500000   4.000000\n",
       "50%    110.000000      24.000000   4.000000\n",
       "75%    160.000000      36.000000   8.000000\n",
       "max    200.000000      46.000000  11.000000"
      ]
     },
     "execution_count": 25,
     "metadata": {},
     "output_type": "execute_result"
    }
   ],
   "source": [
    "data1.describe()"
   ]
  },
  {
   "cell_type": "code",
   "execution_count": 26,
   "metadata": {},
   "outputs": [
    {
     "data": {
      "text/plain": [
       "array([[ 80, 100, 100, 110, 130, 190, 200],\n",
       "       [  6,   2,   4,   4,   4,  11,  10]], dtype=int64)"
      ]
     },
     "execution_count": 26,
     "metadata": {},
     "output_type": "execute_result"
    }
   ],
   "source": [
    "corr = np.stack((data1['Calories'],data1['Sugar']), axis=0 )\n",
    "corr"
   ]
  },
  {
   "cell_type": "code",
   "execution_count": 27,
   "metadata": {},
   "outputs": [
    {
     "data": {
      "text/plain": [
       "133.33333333333331"
      ]
     },
     "execution_count": 27,
     "metadata": {},
     "output_type": "execute_result"
    }
   ],
   "source": [
    "np.cov(corr)[0][1]"
   ]
  },
  {
   "cell_type": "code",
   "execution_count": 28,
   "metadata": {},
   "outputs": [
    {
     "data": {
      "text/plain": [
       "<matplotlib.axes._subplots.AxesSubplot at 0x254ff1fa5c0>"
      ]
     },
     "execution_count": 28,
     "metadata": {},
     "output_type": "execute_result"
    },
    {
     "data": {
      "image/png": "[encoded data removed]",
      "text/plain": [
       "<Figure size 720x720 with 2 Axes>"
      ]
     },
     "metadata": {
      "needs_background": "light"
     },
     "output_type": "display_data"
    }
   ],
   "source": [
    "import seaborn as sns\n",
    "import matplotlib.pyplot as plt\n",
    "fig, ax = plt.subplots(figsize=(10, 10)) \n",
    "mask = np.zeros_like(data1.corr())\n",
    "mask[np.triu_indices_from(mask)] = 1\n",
    "sns.heatmap(data1.corr(), mask= mask, ax= ax, annot= True)"
   ]
  },
  {
   "cell_type": "raw",
   "metadata": {},
   "source": [
    "INferrences:\n",
    "    coefficient of correlation is more valueable in in expressing the relationship between calories and sugar\n",
    "\n",
    "As r is +0.84 which signifies strong correlation between calories and sugar."
   ]
  },
  {
   "cell_type": "markdown",
   "metadata": {},
   "source": [
    "<span style=\"font-family: Arial; font-weight:bold;font-size:1.5em;color:#056b69;\">\"Problem\":  Movie companies need to predict the gross receipts of individual movies once a movie has debuted. The data, shown in the next column and stored in ‘potter.csv’, are the first weekend gross, the U.S. gross, and the worldwide gross (in $ millions) of the eight Harry Potter movies: "
   ]
  },
  {
   "cell_type": "markdown",
   "metadata": {},
   "source": [
    "<span style=\"font-family: Arial; font-weight:bold;font-size:1.5em;color:#a31103;\">9. Compute the coefficient of correlation between first weekend gross and U.S. gross, first weekend gross and worldwide     gross, and U.S. gross and worldwide gross?"
   ]
  },
  {
   "cell_type": "code",
   "execution_count": 30,
   "metadata": {},
   "outputs": [
    {
     "data": {
      "text/html": [
       "<div>\n",
       "<style scoped>\n",
       "    .dataframe tbody tr th:only-of-type {\n",
       "        vertical-align: middle;\n",
       "    }\n",
       "\n",
       "    .dataframe tbody tr th {\n",
       "        vertical-align: top;\n",
       "    }\n",
       "\n",
       "    .dataframe thead th {\n",
       "        text-align: right;\n",
       "    }\n",
       "</style>\n",
       "<table border=\"1\" class=\"dataframe\">\n",
       "  <thead>\n",
       "    <tr style=\"text-align: right;\">\n",
       "      <th></th>\n",
       "      <th>Title</th>\n",
       "      <th>First Weekend</th>\n",
       "      <th>US Gross</th>\n",
       "      <th>Worldwide Gross</th>\n",
       "    </tr>\n",
       "  </thead>\n",
       "  <tbody>\n",
       "    <tr>\n",
       "      <td>0</td>\n",
       "      <td>Sorcerer's Stone</td>\n",
       "      <td>90.295</td>\n",
       "      <td>317.558</td>\n",
       "      <td>976.458</td>\n",
       "    </tr>\n",
       "    <tr>\n",
       "      <td>1</td>\n",
       "      <td>Chamber of Secrets</td>\n",
       "      <td>88.357</td>\n",
       "      <td>261.988</td>\n",
       "      <td>878.988</td>\n",
       "    </tr>\n",
       "    <tr>\n",
       "      <td>2</td>\n",
       "      <td>Prisoner of Azkaban</td>\n",
       "      <td>93.687</td>\n",
       "      <td>249.539</td>\n",
       "      <td>795.539</td>\n",
       "    </tr>\n",
       "    <tr>\n",
       "      <td>3</td>\n",
       "      <td>Goblet of Fire</td>\n",
       "      <td>102.335</td>\n",
       "      <td>290.013</td>\n",
       "      <td>896.013</td>\n",
       "    </tr>\n",
       "    <tr>\n",
       "      <td>4</td>\n",
       "      <td>Order of the Phoenix</td>\n",
       "      <td>77.108</td>\n",
       "      <td>292.005</td>\n",
       "      <td>938.469</td>\n",
       "    </tr>\n",
       "  </tbody>\n",
       "</table>\n",
       "</div>"
      ],
      "text/plain": [
       "                  Title  First Weekend  US Gross  Worldwide Gross\n",
       "0      Sorcerer's Stone         90.295   317.558          976.458\n",
       "1    Chamber of Secrets         88.357   261.988          878.988\n",
       "2   Prisoner of Azkaban         93.687   249.539          795.539\n",
       "3        Goblet of Fire        102.335   290.013          896.013\n",
       "4  Order of the Phoenix         77.108   292.005          938.469"
      ]
     },
     "execution_count": 30,
     "metadata": {},
     "output_type": "execute_result"
    }
   ],
   "source": [
    "data2 = pd.read_excel(\"PotterMovies.xlsx\")\n",
    "data2.head()"
   ]
  },
  {
   "cell_type": "code",
   "execution_count": 31,
   "metadata": {},
   "outputs": [
    {
     "data": {
      "text/html": [
       "<div>\n",
       "<style scoped>\n",
       "    .dataframe tbody tr th:only-of-type {\n",
       "        vertical-align: middle;\n",
       "    }\n",
       "\n",
       "    .dataframe tbody tr th {\n",
       "        vertical-align: top;\n",
       "    }\n",
       "\n",
       "    .dataframe thead th {\n",
       "        text-align: right;\n",
       "    }\n",
       "</style>\n",
       "<table border=\"1\" class=\"dataframe\">\n",
       "  <thead>\n",
       "    <tr style=\"text-align: right;\">\n",
       "      <th></th>\n",
       "      <th>First Weekend</th>\n",
       "      <th>US Gross</th>\n",
       "      <th>Worldwide Gross</th>\n",
       "    </tr>\n",
       "  </thead>\n",
       "  <tbody>\n",
       "    <tr>\n",
       "      <td>count</td>\n",
       "      <td>8.000000</td>\n",
       "      <td>8.000000</td>\n",
       "      <td>8.000000</td>\n",
       "    </tr>\n",
       "    <tr>\n",
       "      <td>mean</td>\n",
       "      <td>102.978000</td>\n",
       "      <td>298.571875</td>\n",
       "      <td>962.949500</td>\n",
       "    </tr>\n",
       "    <tr>\n",
       "      <td>std</td>\n",
       "      <td>30.781162</td>\n",
       "      <td>39.707422</td>\n",
       "      <td>157.906562</td>\n",
       "    </tr>\n",
       "    <tr>\n",
       "      <td>min</td>\n",
       "      <td>77.108000</td>\n",
       "      <td>249.539000</td>\n",
       "      <td>795.539000</td>\n",
       "    </tr>\n",
       "    <tr>\n",
       "      <td>25%</td>\n",
       "      <td>85.726750</td>\n",
       "      <td>283.006750</td>\n",
       "      <td>891.756750</td>\n",
       "    </tr>\n",
       "    <tr>\n",
       "      <td>50%</td>\n",
       "      <td>91.991000</td>\n",
       "      <td>293.503000</td>\n",
       "      <td>936.535000</td>\n",
       "    </tr>\n",
       "    <tr>\n",
       "      <td>75%</td>\n",
       "      <td>108.005500</td>\n",
       "      <td>305.484500</td>\n",
       "      <td>960.677250</td>\n",
       "    </tr>\n",
       "    <tr>\n",
       "      <td>max</td>\n",
       "      <td>169.189000</td>\n",
       "      <td>381.011000</td>\n",
       "      <td>1328.111000</td>\n",
       "    </tr>\n",
       "  </tbody>\n",
       "</table>\n",
       "</div>"
      ],
      "text/plain": [
       "       First Weekend    US Gross  Worldwide Gross\n",
       "count       8.000000    8.000000         8.000000\n",
       "mean      102.978000  298.571875       962.949500\n",
       "std        30.781162   39.707422       157.906562\n",
       "min        77.108000  249.539000       795.539000\n",
       "25%        85.726750  283.006750       891.756750\n",
       "50%        91.991000  293.503000       936.535000\n",
       "75%       108.005500  305.484500       960.677250\n",
       "max       169.189000  381.011000      1328.111000"
      ]
     },
     "execution_count": 31,
     "metadata": {},
     "output_type": "execute_result"
    }
   ],
   "source": [
    "data2.describe()"
   ]
  },
  {
   "cell_type": "code",
   "execution_count": 32,
   "metadata": {},
   "outputs": [
    {
     "data": {
      "text/plain": [
       "array([[ 90.295,  88.357,  93.687, 102.335,  77.108,  77.836, 125.017,\n",
       "        169.189],\n",
       "       [317.558, 261.988, 249.539, 290.013, 292.005, 301.46 , 295.001,\n",
       "        381.011]])"
      ]
     },
     "execution_count": 32,
     "metadata": {},
     "output_type": "execute_result"
    }
   ],
   "source": [
    "corr_fu = np.stack((data2['First Weekend'], data2['US Gross']), axis=0 )\n",
    "corr_fu"
   ]
  },
  {
   "cell_type": "code",
   "execution_count": 33,
   "metadata": {},
   "outputs": [
    {
     "data": {
      "text/plain": [
       "array([[ 317.558,  261.988,  249.539,  290.013,  292.005,  301.46 ,\n",
       "         295.001,  381.011],\n",
       "       [ 976.458,  878.988,  795.539,  896.013,  938.469,  934.601,\n",
       "         955.417, 1328.111]])"
      ]
     },
     "execution_count": 33,
     "metadata": {},
     "output_type": "execute_result"
    }
   ],
   "source": [
    "corr_uw = np.stack((data2['US Gross'], data2['Worldwide Gross']), axis=0 )\n",
    "corr_uw"
   ]
  },
  {
   "cell_type": "code",
   "execution_count": 34,
   "metadata": {},
   "outputs": [
    {
     "data": {
      "text/plain": [
       "array([[  90.295,   88.357,   93.687,  102.335,   77.108,   77.836,\n",
       "         125.017,  169.189],\n",
       "       [ 976.458,  878.988,  795.539,  896.013,  938.469,  934.601,\n",
       "         955.417, 1328.111]])"
      ]
     },
     "execution_count": 34,
     "metadata": {},
     "output_type": "execute_result"
    }
   ],
   "source": [
    "corr_fw = np.stack((data2['First Weekend'],data2['Worldwide Gross']), axis=0 )\n",
    "corr_fw"
   ]
  },
  {
   "cell_type": "markdown",
   "metadata": {},
   "source": [
    "-----------"
   ]
  },
  {
   "cell_type": "markdown",
   "metadata": {},
   "source": [
    "# 1 Questions X 7 Marks = 7Marks"
   ]
  },
  {
   "cell_type": "markdown",
   "metadata": {},
   "source": [
    "-----------"
   ]
  },
  {
   "cell_type": "markdown",
   "metadata": {},
   "source": [
    " \n",
    "<span style=\"font-family: Arial; font-weight:bold;font-size:1.5em;color:#056b69;\">10. The file ‘Market Penetration’ contains Facebook penetration values (the percentage of the country population that are Facebook users).\n",
    "Source: Data extracted from slidesha.re/ODv6vG.\n"
   ]
  },
  {
   "cell_type": "markdown",
   "metadata": {},
   "source": [
    "    a. Construct a 95 % confidence interval estimate for the population mean Facebook penetration. (4 MARKS)\n",
    "    b. What assumption do you need to make about the population to construct the interval in (a)? (3 MARKS)"
   ]
  },
  {
   "cell_type": "code",
   "execution_count": 35,
   "metadata": {},
   "outputs": [
    {
     "data": {
      "text/html": [
       "<div>\n",
       "<style scoped>\n",
       "    .dataframe tbody tr th:only-of-type {\n",
       "        vertical-align: middle;\n",
       "    }\n",
       "\n",
       "    .dataframe tbody tr th {\n",
       "        vertical-align: top;\n",
       "    }\n",
       "\n",
       "    .dataframe thead th {\n",
       "        text-align: right;\n",
       "    }\n",
       "</style>\n",
       "<table border=\"1\" class=\"dataframe\">\n",
       "  <thead>\n",
       "    <tr style=\"text-align: right;\">\n",
       "      <th></th>\n",
       "      <th>Facebook Penetration (%)</th>\n",
       "    </tr>\n",
       "  </thead>\n",
       "  <tbody>\n",
       "    <tr>\n",
       "      <td>count</td>\n",
       "      <td>22.000000</td>\n",
       "    </tr>\n",
       "    <tr>\n",
       "      <td>mean</td>\n",
       "      <td>39.409091</td>\n",
       "    </tr>\n",
       "    <tr>\n",
       "      <td>std</td>\n",
       "      <td>18.456278</td>\n",
       "    </tr>\n",
       "    <tr>\n",
       "      <td>min</td>\n",
       "      <td>6.000000</td>\n",
       "    </tr>\n",
       "    <tr>\n",
       "      <td>25%</td>\n",
       "      <td>27.250000</td>\n",
       "    </tr>\n",
       "    <tr>\n",
       "      <td>50%</td>\n",
       "      <td>42.000000</td>\n",
       "    </tr>\n",
       "    <tr>\n",
       "      <td>75%</td>\n",
       "      <td>55.750000</td>\n",
       "    </tr>\n",
       "    <tr>\n",
       "      <td>max</td>\n",
       "      <td>80.000000</td>\n",
       "    </tr>\n",
       "  </tbody>\n",
       "</table>\n",
       "</div>"
      ],
      "text/plain": [
       "       Facebook Penetration (%)\n",
       "count                 22.000000\n",
       "mean                  39.409091\n",
       "std                   18.456278\n",
       "min                    6.000000\n",
       "25%                   27.250000\n",
       "50%                   42.000000\n",
       "75%                   55.750000\n",
       "max                   80.000000"
      ]
     },
     "execution_count": 35,
     "metadata": {},
     "output_type": "execute_result"
    }
   ],
   "source": [
    "data3 = pd.read_excel(\"MarketPenetration.xlsx\")\n",
    "data3.describe()"
   ]
  },
  {
   "cell_type": "code",
   "execution_count": 36,
   "metadata": {},
   "outputs": [
    {
     "name": "stdout",
     "output_type": "stream",
     "text": [
      "Mean Market Penetration is 39.40909\n",
      "SD Market Penetration is 18.45628\n"
     ]
    }
   ],
   "source": [
    "avg = data3['Facebook Penetration (%)'].mean()\n",
    "sd  = data3['Facebook Penetration (%)'].std()\n",
    "print('Mean Market Penetration is %2.5f' % avg)\n",
    "print('SD Market Penetration is %2.5f'% sd)"
   ]
  },
  {
   "cell_type": "code",
   "execution_count": 37,
   "metadata": {},
   "outputs": [
    {
     "data": {
      "text/plain": [
       "2.0796"
      ]
     },
     "execution_count": 37,
     "metadata": {},
     "output_type": "execute_result"
    }
   ],
   "source": [
    "import scipy.stats as stats\n",
    "n = 22\n",
    "sl2 = 0.025\n",
    "degg_frdm = n - 1\n",
    "t_value = np.abs(round(stats.t.ppf( (1- sl2), degg_frdm),4)) \n",
    "t_value"
   ]
  },
  {
   "cell_type": "code",
   "execution_count": 38,
   "metadata": {},
   "outputs": [
    {
     "name": "stdout",
     "output_type": "stream",
     "text": [
      "confidence interval estimate for the population mean Facebook penetration is 31.22604  to 47.59215\n"
     ]
    }
   ],
   "source": [
    "alpha = 0.95\n",
    "s = sd / np.sqrt(n)\n",
    "low_confi_int, up_confi_int = stats.t.interval(alpha, degg_frdm, avg, s)\n",
    "print('confidence interval estimate for the population mean Facebook penetration is %1.5f  to %1.5f' % ( low_confi_int , up_confi_int))"
   ]
  },
  {
   "cell_type": "code",
   "execution_count": null,
   "metadata": {},
   "outputs": [],
   "source": []
  }
 ],
 "metadata": {
  "kernelspec": {
   "display_name": "Python 3",
   "language": "python",
   "name": "python3"
  },
  "language_info": {
   "codemirror_mode": {
    "name": "ipython",
    "version": 3
   },
   "file_extension": ".py",
   "mimetype": "text/x-python",
   "name": "python",
   "nbconvert_exporter": "python",
   "pygments_lexer": "ipython3",
   "version": "3.7.3"
  }
 },
 "nbformat": 4,
 "nbformat_minor": 1
}
